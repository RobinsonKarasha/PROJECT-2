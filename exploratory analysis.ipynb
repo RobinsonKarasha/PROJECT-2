{
 "cells": [
  {
   "cell_type": "markdown",
   "id": "48f97ad1-54c5-4a8c-834d-2b5ff1a65e4c",
   "metadata": {},
   "source": [
    "Business Problem\n",
    "\n",
    "\n",
    "Our company now sees all the big companies creating original video content and We want to get in on the fun. We have decided to create a new movie studio, but we don’t know anything about creating movies. \n",
    "I'm charged with exploring what types of films are currently doing the best at the box office.\n",
    "I must then translate those findings into actionable insights that the head of our company's new movie studio can use to help decide what type of films to create"
   ]
  },
  {
   "cell_type": "code",
   "execution_count": 5,
   "id": "a104528a-2b96-410c-bade-167d29a828f6",
   "metadata": {},
   "outputs": [],
   "source": [
    "#ooading libraries\n",
    "import pandas as pd\n",
    "from scipy.stats import pearsonr\n",
    "import matplotlib as plt\n",
    "import numpy as np\n",
    "import sqlite3"
   ]
  },
  {
   "cell_type": "code",
   "execution_count": 96,
   "id": "9ef34d35-f7d3-48ee-a75f-b72d63f98b81",
   "metadata": {},
   "outputs": [
    {
     "data": {
      "text/html": [
       "<div>\n",
       "<style scoped>\n",
       "    .dataframe tbody tr th:only-of-type {\n",
       "        vertical-align: middle;\n",
       "    }\n",
       "\n",
       "    .dataframe tbody tr th {\n",
       "        vertical-align: top;\n",
       "    }\n",
       "\n",
       "    .dataframe thead th {\n",
       "        text-align: right;\n",
       "    }\n",
       "</style>\n",
       "<table border=\"1\" class=\"dataframe\">\n",
       "  <thead>\n",
       "    <tr style=\"text-align: right;\">\n",
       "      <th></th>\n",
       "      <th>id</th>\n",
       "      <th>release_date</th>\n",
       "      <th>movie</th>\n",
       "      <th>production_budget</th>\n",
       "      <th>domestic_gross</th>\n",
       "      <th>worldwide_gross</th>\n",
       "    </tr>\n",
       "  </thead>\n",
       "  <tbody>\n",
       "    <tr>\n",
       "      <th>0</th>\n",
       "      <td>1</td>\n",
       "      <td>Dec 18, 2009</td>\n",
       "      <td>Avatar</td>\n",
       "      <td>$425,000,000</td>\n",
       "      <td>$760,507,625</td>\n",
       "      <td>$2,776,345,279</td>\n",
       "    </tr>\n",
       "    <tr>\n",
       "      <th>1</th>\n",
       "      <td>2</td>\n",
       "      <td>May 20, 2011</td>\n",
       "      <td>Pirates of the Caribbean: On Stranger Tides</td>\n",
       "      <td>$410,600,000</td>\n",
       "      <td>$241,063,875</td>\n",
       "      <td>$1,045,663,875</td>\n",
       "    </tr>\n",
       "    <tr>\n",
       "      <th>2</th>\n",
       "      <td>3</td>\n",
       "      <td>Jun 7, 2019</td>\n",
       "      <td>Dark Phoenix</td>\n",
       "      <td>$350,000,000</td>\n",
       "      <td>$42,762,350</td>\n",
       "      <td>$149,762,350</td>\n",
       "    </tr>\n",
       "    <tr>\n",
       "      <th>3</th>\n",
       "      <td>4</td>\n",
       "      <td>May 1, 2015</td>\n",
       "      <td>Avengers: Age of Ultron</td>\n",
       "      <td>$330,600,000</td>\n",
       "      <td>$459,005,868</td>\n",
       "      <td>$1,403,013,963</td>\n",
       "    </tr>\n",
       "    <tr>\n",
       "      <th>4</th>\n",
       "      <td>5</td>\n",
       "      <td>Dec 15, 2017</td>\n",
       "      <td>Star Wars Ep. VIII: The Last Jedi</td>\n",
       "      <td>$317,000,000</td>\n",
       "      <td>$620,181,382</td>\n",
       "      <td>$1,316,721,747</td>\n",
       "    </tr>\n",
       "  </tbody>\n",
       "</table>\n",
       "</div>"
      ],
      "text/plain": [
       "   id  release_date                                        movie  \\\n",
       "0   1  Dec 18, 2009                                       Avatar   \n",
       "1   2  May 20, 2011  Pirates of the Caribbean: On Stranger Tides   \n",
       "2   3   Jun 7, 2019                                 Dark Phoenix   \n",
       "3   4   May 1, 2015                      Avengers: Age of Ultron   \n",
       "4   5  Dec 15, 2017            Star Wars Ep. VIII: The Last Jedi   \n",
       "\n",
       "  production_budget domestic_gross worldwide_gross  \n",
       "0      $425,000,000   $760,507,625  $2,776,345,279  \n",
       "1      $410,600,000   $241,063,875  $1,045,663,875  \n",
       "2      $350,000,000    $42,762,350    $149,762,350  \n",
       "3      $330,600,000   $459,005,868  $1,403,013,963  \n",
       "4      $317,000,000   $620,181,382  $1,316,721,747  "
      ]
     },
     "execution_count": 96,
     "metadata": {},
     "output_type": "execute_result"
    }
   ],
   "source": [
    "df = pd.read_csv('tn.movie_budgets.csv.gz')\n",
    "df.head()"
   ]
  },
  {
   "cell_type": "code",
   "execution_count": 120,
   "id": "7a7413bf-cf2d-423b-8a1e-c8e82831f721",
   "metadata": {},
   "outputs": [
    {
     "data": {
      "text/html": [
       "<div>\n",
       "<style scoped>\n",
       "    .dataframe tbody tr th:only-of-type {\n",
       "        vertical-align: middle;\n",
       "    }\n",
       "\n",
       "    .dataframe tbody tr th {\n",
       "        vertical-align: top;\n",
       "    }\n",
       "\n",
       "    .dataframe thead th {\n",
       "        text-align: right;\n",
       "    }\n",
       "</style>\n",
       "<table border=\"1\" class=\"dataframe\">\n",
       "  <thead>\n",
       "    <tr style=\"text-align: right;\">\n",
       "      <th></th>\n",
       "      <th>id</th>\n",
       "      <th>synopsis</th>\n",
       "      <th>rating</th>\n",
       "      <th>genre</th>\n",
       "      <th>director</th>\n",
       "      <th>writer</th>\n",
       "      <th>theater_date</th>\n",
       "      <th>dvd_date</th>\n",
       "      <th>currency</th>\n",
       "      <th>box_office</th>\n",
       "      <th>runtime</th>\n",
       "      <th>studio</th>\n",
       "    </tr>\n",
       "  </thead>\n",
       "  <tbody>\n",
       "    <tr>\n",
       "      <th>0</th>\n",
       "      <td>1</td>\n",
       "      <td>This gritty, fast-paced, and innovative police...</td>\n",
       "      <td>R</td>\n",
       "      <td>Action and Adventure|Classics|Drama</td>\n",
       "      <td>William Friedkin</td>\n",
       "      <td>Ernest Tidyman</td>\n",
       "      <td>Oct 9, 1971</td>\n",
       "      <td>Sep 25, 2001</td>\n",
       "      <td>NaN</td>\n",
       "      <td>NaN</td>\n",
       "      <td>104 minutes</td>\n",
       "      <td>NaN</td>\n",
       "    </tr>\n",
       "    <tr>\n",
       "      <th>1</th>\n",
       "      <td>3</td>\n",
       "      <td>New York City, not-too-distant-future: Eric Pa...</td>\n",
       "      <td>R</td>\n",
       "      <td>Drama|Science Fiction and Fantasy</td>\n",
       "      <td>David Cronenberg</td>\n",
       "      <td>David Cronenberg|Don DeLillo</td>\n",
       "      <td>Aug 17, 2012</td>\n",
       "      <td>Jan 1, 2013</td>\n",
       "      <td>$</td>\n",
       "      <td>600,000</td>\n",
       "      <td>108 minutes</td>\n",
       "      <td>Entertainment One</td>\n",
       "    </tr>\n",
       "    <tr>\n",
       "      <th>2</th>\n",
       "      <td>5</td>\n",
       "      <td>Illeana Douglas delivers a superb performance ...</td>\n",
       "      <td>R</td>\n",
       "      <td>Drama|Musical and Performing Arts</td>\n",
       "      <td>Allison Anders</td>\n",
       "      <td>Allison Anders</td>\n",
       "      <td>Sep 13, 1996</td>\n",
       "      <td>Apr 18, 2000</td>\n",
       "      <td>NaN</td>\n",
       "      <td>NaN</td>\n",
       "      <td>116 minutes</td>\n",
       "      <td>NaN</td>\n",
       "    </tr>\n",
       "    <tr>\n",
       "      <th>3</th>\n",
       "      <td>6</td>\n",
       "      <td>Michael Douglas runs afoul of a treacherous su...</td>\n",
       "      <td>R</td>\n",
       "      <td>Drama|Mystery and Suspense</td>\n",
       "      <td>Barry Levinson</td>\n",
       "      <td>Paul Attanasio|Michael Crichton</td>\n",
       "      <td>Dec 9, 1994</td>\n",
       "      <td>Aug 27, 1997</td>\n",
       "      <td>NaN</td>\n",
       "      <td>NaN</td>\n",
       "      <td>128 minutes</td>\n",
       "      <td>NaN</td>\n",
       "    </tr>\n",
       "    <tr>\n",
       "      <th>4</th>\n",
       "      <td>7</td>\n",
       "      <td>NaN</td>\n",
       "      <td>NR</td>\n",
       "      <td>Drama|Romance</td>\n",
       "      <td>Rodney Bennett</td>\n",
       "      <td>Giles Cooper</td>\n",
       "      <td>NaN</td>\n",
       "      <td>NaN</td>\n",
       "      <td>NaN</td>\n",
       "      <td>NaN</td>\n",
       "      <td>200 minutes</td>\n",
       "      <td>NaN</td>\n",
       "    </tr>\n",
       "  </tbody>\n",
       "</table>\n",
       "</div>"
      ],
      "text/plain": [
       "   id                                           synopsis rating  \\\n",
       "0   1  This gritty, fast-paced, and innovative police...      R   \n",
       "1   3  New York City, not-too-distant-future: Eric Pa...      R   \n",
       "2   5  Illeana Douglas delivers a superb performance ...      R   \n",
       "3   6  Michael Douglas runs afoul of a treacherous su...      R   \n",
       "4   7                                                NaN     NR   \n",
       "\n",
       "                                 genre          director  \\\n",
       "0  Action and Adventure|Classics|Drama  William Friedkin   \n",
       "1    Drama|Science Fiction and Fantasy  David Cronenberg   \n",
       "2    Drama|Musical and Performing Arts    Allison Anders   \n",
       "3           Drama|Mystery and Suspense    Barry Levinson   \n",
       "4                        Drama|Romance    Rodney Bennett   \n",
       "\n",
       "                            writer  theater_date      dvd_date currency  \\\n",
       "0                   Ernest Tidyman   Oct 9, 1971  Sep 25, 2001      NaN   \n",
       "1     David Cronenberg|Don DeLillo  Aug 17, 2012   Jan 1, 2013        $   \n",
       "2                   Allison Anders  Sep 13, 1996  Apr 18, 2000      NaN   \n",
       "3  Paul Attanasio|Michael Crichton   Dec 9, 1994  Aug 27, 1997      NaN   \n",
       "4                     Giles Cooper           NaN           NaN      NaN   \n",
       "\n",
       "  box_office      runtime             studio  \n",
       "0        NaN  104 minutes                NaN  \n",
       "1    600,000  108 minutes  Entertainment One  \n",
       "2        NaN  116 minutes                NaN  \n",
       "3        NaN  128 minutes                NaN  \n",
       "4        NaN  200 minutes                NaN  "
      ]
     },
     "execution_count": 120,
     "metadata": {},
     "output_type": "execute_result"
    }
   ],
   "source": [
    "df1 = pd.read_csv('rt.movie_info.tsv.gz',  sep='\\t')\n",
    "df1.head()"
   ]
  },
  {
   "cell_type": "code",
   "execution_count": 97,
   "id": "1dfc7f00-7118-4484-a3ab-088720c0058c",
   "metadata": {},
   "outputs": [
    {
     "data": {
      "text/html": [
       "<div>\n",
       "<style scoped>\n",
       "    .dataframe tbody tr th:only-of-type {\n",
       "        vertical-align: middle;\n",
       "    }\n",
       "\n",
       "    .dataframe tbody tr th {\n",
       "        vertical-align: top;\n",
       "    }\n",
       "\n",
       "    .dataframe thead th {\n",
       "        text-align: right;\n",
       "    }\n",
       "</style>\n",
       "<table border=\"1\" class=\"dataframe\">\n",
       "  <thead>\n",
       "    <tr style=\"text-align: right;\">\n",
       "      <th></th>\n",
       "      <th>id</th>\n",
       "      <th>review</th>\n",
       "      <th>rating</th>\n",
       "      <th>fresh</th>\n",
       "      <th>critic</th>\n",
       "      <th>top_critic</th>\n",
       "      <th>publisher</th>\n",
       "      <th>date</th>\n",
       "    </tr>\n",
       "  </thead>\n",
       "  <tbody>\n",
       "    <tr>\n",
       "      <th>0</th>\n",
       "      <td>3</td>\n",
       "      <td>A distinctly gallows take on contemporary fina...</td>\n",
       "      <td>3/5</td>\n",
       "      <td>fresh</td>\n",
       "      <td>PJ Nabarro</td>\n",
       "      <td>0</td>\n",
       "      <td>Patrick Nabarro</td>\n",
       "      <td>November 10, 2018</td>\n",
       "    </tr>\n",
       "    <tr>\n",
       "      <th>1</th>\n",
       "      <td>3</td>\n",
       "      <td>It's an allegory in search of a meaning that n...</td>\n",
       "      <td>NaN</td>\n",
       "      <td>rotten</td>\n",
       "      <td>Annalee Newitz</td>\n",
       "      <td>0</td>\n",
       "      <td>io9.com</td>\n",
       "      <td>May 23, 2018</td>\n",
       "    </tr>\n",
       "    <tr>\n",
       "      <th>2</th>\n",
       "      <td>3</td>\n",
       "      <td>... life lived in a bubble in financial dealin...</td>\n",
       "      <td>NaN</td>\n",
       "      <td>fresh</td>\n",
       "      <td>Sean Axmaker</td>\n",
       "      <td>0</td>\n",
       "      <td>Stream on Demand</td>\n",
       "      <td>January 4, 2018</td>\n",
       "    </tr>\n",
       "    <tr>\n",
       "      <th>3</th>\n",
       "      <td>3</td>\n",
       "      <td>Continuing along a line introduced in last yea...</td>\n",
       "      <td>NaN</td>\n",
       "      <td>fresh</td>\n",
       "      <td>Daniel Kasman</td>\n",
       "      <td>0</td>\n",
       "      <td>MUBI</td>\n",
       "      <td>November 16, 2017</td>\n",
       "    </tr>\n",
       "    <tr>\n",
       "      <th>4</th>\n",
       "      <td>3</td>\n",
       "      <td>... a perverse twist on neorealism...</td>\n",
       "      <td>NaN</td>\n",
       "      <td>fresh</td>\n",
       "      <td>NaN</td>\n",
       "      <td>0</td>\n",
       "      <td>Cinema Scope</td>\n",
       "      <td>October 12, 2017</td>\n",
       "    </tr>\n",
       "  </tbody>\n",
       "</table>\n",
       "</div>"
      ],
      "text/plain": [
       "   id                                             review rating   fresh  \\\n",
       "0   3  A distinctly gallows take on contemporary fina...    3/5   fresh   \n",
       "1   3  It's an allegory in search of a meaning that n...    NaN  rotten   \n",
       "2   3  ... life lived in a bubble in financial dealin...    NaN   fresh   \n",
       "3   3  Continuing along a line introduced in last yea...    NaN   fresh   \n",
       "4   3             ... a perverse twist on neorealism...     NaN   fresh   \n",
       "\n",
       "           critic  top_critic         publisher               date  \n",
       "0      PJ Nabarro           0   Patrick Nabarro  November 10, 2018  \n",
       "1  Annalee Newitz           0           io9.com       May 23, 2018  \n",
       "2    Sean Axmaker           0  Stream on Demand    January 4, 2018  \n",
       "3   Daniel Kasman           0              MUBI  November 16, 2017  \n",
       "4             NaN           0      Cinema Scope   October 12, 2017  "
      ]
     },
     "execution_count": 97,
     "metadata": {},
     "output_type": "execute_result"
    }
   ],
   "source": [
    "df2 = pd.read_csv('rt.reviews.tsv.gz', sep='\\t', encoding='ISO-8859-1')\n",
    "df2.head()"
   ]
  },
  {
   "cell_type": "code",
   "execution_count": 99,
   "id": "82b04f2c-0bdd-4e0c-85e5-781d0a44aa2e",
   "metadata": {},
   "outputs": [
    {
     "data": {
      "text/html": [
       "<div>\n",
       "<style scoped>\n",
       "    .dataframe tbody tr th:only-of-type {\n",
       "        vertical-align: middle;\n",
       "    }\n",
       "\n",
       "    .dataframe tbody tr th {\n",
       "        vertical-align: top;\n",
       "    }\n",
       "\n",
       "    .dataframe thead th {\n",
       "        text-align: right;\n",
       "    }\n",
       "</style>\n",
       "<table border=\"1\" class=\"dataframe\">\n",
       "  <thead>\n",
       "    <tr style=\"text-align: right;\">\n",
       "      <th></th>\n",
       "      <th>Unnamed: 0</th>\n",
       "      <th>genre_ids</th>\n",
       "      <th>id</th>\n",
       "      <th>original_language</th>\n",
       "      <th>original_title</th>\n",
       "      <th>popularity</th>\n",
       "      <th>release_date</th>\n",
       "      <th>title</th>\n",
       "      <th>vote_average</th>\n",
       "      <th>vote_count</th>\n",
       "    </tr>\n",
       "  </thead>\n",
       "  <tbody>\n",
       "    <tr>\n",
       "      <th>0</th>\n",
       "      <td>0</td>\n",
       "      <td>[12, 14, 10751]</td>\n",
       "      <td>12444</td>\n",
       "      <td>en</td>\n",
       "      <td>Harry Potter and the Deathly Hallows: Part 1</td>\n",
       "      <td>33.533</td>\n",
       "      <td>2010-11-19</td>\n",
       "      <td>Harry Potter and the Deathly Hallows: Part 1</td>\n",
       "      <td>7.7</td>\n",
       "      <td>10788</td>\n",
       "    </tr>\n",
       "    <tr>\n",
       "      <th>1</th>\n",
       "      <td>1</td>\n",
       "      <td>[14, 12, 16, 10751]</td>\n",
       "      <td>10191</td>\n",
       "      <td>en</td>\n",
       "      <td>How to Train Your Dragon</td>\n",
       "      <td>28.734</td>\n",
       "      <td>2010-03-26</td>\n",
       "      <td>How to Train Your Dragon</td>\n",
       "      <td>7.7</td>\n",
       "      <td>7610</td>\n",
       "    </tr>\n",
       "    <tr>\n",
       "      <th>2</th>\n",
       "      <td>2</td>\n",
       "      <td>[12, 28, 878]</td>\n",
       "      <td>10138</td>\n",
       "      <td>en</td>\n",
       "      <td>Iron Man 2</td>\n",
       "      <td>28.515</td>\n",
       "      <td>2010-05-07</td>\n",
       "      <td>Iron Man 2</td>\n",
       "      <td>6.8</td>\n",
       "      <td>12368</td>\n",
       "    </tr>\n",
       "    <tr>\n",
       "      <th>3</th>\n",
       "      <td>3</td>\n",
       "      <td>[16, 35, 10751]</td>\n",
       "      <td>862</td>\n",
       "      <td>en</td>\n",
       "      <td>Toy Story</td>\n",
       "      <td>28.005</td>\n",
       "      <td>1995-11-22</td>\n",
       "      <td>Toy Story</td>\n",
       "      <td>7.9</td>\n",
       "      <td>10174</td>\n",
       "    </tr>\n",
       "    <tr>\n",
       "      <th>4</th>\n",
       "      <td>4</td>\n",
       "      <td>[28, 878, 12]</td>\n",
       "      <td>27205</td>\n",
       "      <td>en</td>\n",
       "      <td>Inception</td>\n",
       "      <td>27.920</td>\n",
       "      <td>2010-07-16</td>\n",
       "      <td>Inception</td>\n",
       "      <td>8.3</td>\n",
       "      <td>22186</td>\n",
       "    </tr>\n",
       "  </tbody>\n",
       "</table>\n",
       "</div>"
      ],
      "text/plain": [
       "   Unnamed: 0            genre_ids     id original_language  \\\n",
       "0           0      [12, 14, 10751]  12444                en   \n",
       "1           1  [14, 12, 16, 10751]  10191                en   \n",
       "2           2        [12, 28, 878]  10138                en   \n",
       "3           3      [16, 35, 10751]    862                en   \n",
       "4           4        [28, 878, 12]  27205                en   \n",
       "\n",
       "                                 original_title  popularity release_date  \\\n",
       "0  Harry Potter and the Deathly Hallows: Part 1      33.533   2010-11-19   \n",
       "1                      How to Train Your Dragon      28.734   2010-03-26   \n",
       "2                                    Iron Man 2      28.515   2010-05-07   \n",
       "3                                     Toy Story      28.005   1995-11-22   \n",
       "4                                     Inception      27.920   2010-07-16   \n",
       "\n",
       "                                          title  vote_average  vote_count  \n",
       "0  Harry Potter and the Deathly Hallows: Part 1           7.7       10788  \n",
       "1                      How to Train Your Dragon           7.7        7610  \n",
       "2                                    Iron Man 2           6.8       12368  \n",
       "3                                     Toy Story           7.9       10174  \n",
       "4                                     Inception           8.3       22186  "
      ]
     },
     "execution_count": 99,
     "metadata": {},
     "output_type": "execute_result"
    }
   ],
   "source": [
    "df3 = pd.read_csv('tmdb.movies.csv.gz')\n",
    "df3.head()"
   ]
  },
  {
   "cell_type": "code",
   "execution_count": 60,
   "id": "e2f9846c-912a-4cda-886a-dd7f474648a0",
   "metadata": {},
   "outputs": [],
   "source": [
    "conn = sqlite3.Connection(\"im.db/im.db\")\n"
   ]
  },
  {
   "cell_type": "code",
   "execution_count": 98,
   "id": "7eba3b0b-1c50-4b21-9e77-0f0ddde27157",
   "metadata": {},
   "outputs": [
    {
     "data": {
      "text/html": [
       "<div>\n",
       "<style scoped>\n",
       "    .dataframe tbody tr th:only-of-type {\n",
       "        vertical-align: middle;\n",
       "    }\n",
       "\n",
       "    .dataframe tbody tr th {\n",
       "        vertical-align: top;\n",
       "    }\n",
       "\n",
       "    .dataframe thead th {\n",
       "        text-align: right;\n",
       "    }\n",
       "</style>\n",
       "<table border=\"1\" class=\"dataframe\">\n",
       "  <thead>\n",
       "    <tr style=\"text-align: right;\">\n",
       "      <th></th>\n",
       "      <th>type</th>\n",
       "      <th>name</th>\n",
       "      <th>tbl_name</th>\n",
       "      <th>rootpage</th>\n",
       "      <th>sql</th>\n",
       "    </tr>\n",
       "  </thead>\n",
       "  <tbody>\n",
       "    <tr>\n",
       "      <th>0</th>\n",
       "      <td>table</td>\n",
       "      <td>movie_basics</td>\n",
       "      <td>movie_basics</td>\n",
       "      <td>2</td>\n",
       "      <td>CREATE TABLE \"movie_basics\" (\\n\"movie_id\" TEXT...</td>\n",
       "    </tr>\n",
       "    <tr>\n",
       "      <th>1</th>\n",
       "      <td>table</td>\n",
       "      <td>directors</td>\n",
       "      <td>directors</td>\n",
       "      <td>3</td>\n",
       "      <td>CREATE TABLE \"directors\" (\\n\"movie_id\" TEXT,\\n...</td>\n",
       "    </tr>\n",
       "    <tr>\n",
       "      <th>2</th>\n",
       "      <td>table</td>\n",
       "      <td>known_for</td>\n",
       "      <td>known_for</td>\n",
       "      <td>4</td>\n",
       "      <td>CREATE TABLE \"known_for\" (\\n\"person_id\" TEXT,\\...</td>\n",
       "    </tr>\n",
       "    <tr>\n",
       "      <th>3</th>\n",
       "      <td>table</td>\n",
       "      <td>movie_akas</td>\n",
       "      <td>movie_akas</td>\n",
       "      <td>5</td>\n",
       "      <td>CREATE TABLE \"movie_akas\" (\\n\"movie_id\" TEXT,\\...</td>\n",
       "    </tr>\n",
       "    <tr>\n",
       "      <th>4</th>\n",
       "      <td>table</td>\n",
       "      <td>movie_ratings</td>\n",
       "      <td>movie_ratings</td>\n",
       "      <td>6</td>\n",
       "      <td>CREATE TABLE \"movie_ratings\" (\\n\"movie_id\" TEX...</td>\n",
       "    </tr>\n",
       "    <tr>\n",
       "      <th>5</th>\n",
       "      <td>table</td>\n",
       "      <td>persons</td>\n",
       "      <td>persons</td>\n",
       "      <td>7</td>\n",
       "      <td>CREATE TABLE \"persons\" (\\n\"person_id\" TEXT,\\n ...</td>\n",
       "    </tr>\n",
       "    <tr>\n",
       "      <th>6</th>\n",
       "      <td>table</td>\n",
       "      <td>principals</td>\n",
       "      <td>principals</td>\n",
       "      <td>8</td>\n",
       "      <td>CREATE TABLE \"principals\" (\\n\"movie_id\" TEXT,\\...</td>\n",
       "    </tr>\n",
       "    <tr>\n",
       "      <th>7</th>\n",
       "      <td>table</td>\n",
       "      <td>writers</td>\n",
       "      <td>writers</td>\n",
       "      <td>9</td>\n",
       "      <td>CREATE TABLE \"writers\" (\\n\"movie_id\" TEXT,\\n  ...</td>\n",
       "    </tr>\n",
       "  </tbody>\n",
       "</table>\n",
       "</div>"
      ],
      "text/plain": [
       "    type           name       tbl_name  rootpage  \\\n",
       "0  table   movie_basics   movie_basics         2   \n",
       "1  table      directors      directors         3   \n",
       "2  table      known_for      known_for         4   \n",
       "3  table     movie_akas     movie_akas         5   \n",
       "4  table  movie_ratings  movie_ratings         6   \n",
       "5  table        persons        persons         7   \n",
       "6  table     principals     principals         8   \n",
       "7  table        writers        writers         9   \n",
       "\n",
       "                                                 sql  \n",
       "0  CREATE TABLE \"movie_basics\" (\\n\"movie_id\" TEXT...  \n",
       "1  CREATE TABLE \"directors\" (\\n\"movie_id\" TEXT,\\n...  \n",
       "2  CREATE TABLE \"known_for\" (\\n\"person_id\" TEXT,\\...  \n",
       "3  CREATE TABLE \"movie_akas\" (\\n\"movie_id\" TEXT,\\...  \n",
       "4  CREATE TABLE \"movie_ratings\" (\\n\"movie_id\" TEX...  \n",
       "5  CREATE TABLE \"persons\" (\\n\"person_id\" TEXT,\\n ...  \n",
       "6  CREATE TABLE \"principals\" (\\n\"movie_id\" TEXT,\\...  \n",
       "7  CREATE TABLE \"writers\" (\\n\"movie_id\" TEXT,\\n  ...  "
      ]
     },
     "execution_count": 98,
     "metadata": {},
     "output_type": "execute_result"
    }
   ],
   "source": [
    "qo = \"\"\"\n",
    "SELECT *\n",
    "FROM sqlite_master\n",
    ";\n",
    "\"\"\"\n",
    "pd.read_sql(qo, conn)\n"
   ]
  },
  {
   "cell_type": "code",
   "execution_count": 46,
   "id": "bc28b590-5437-4b2a-9507-78c305a1e52f",
   "metadata": {},
   "outputs": [
    {
     "data": {
      "text/html": [
       "<div>\n",
       "<style scoped>\n",
       "    .dataframe tbody tr th:only-of-type {\n",
       "        vertical-align: middle;\n",
       "    }\n",
       "\n",
       "    .dataframe tbody tr th {\n",
       "        vertical-align: top;\n",
       "    }\n",
       "\n",
       "    .dataframe thead th {\n",
       "        text-align: right;\n",
       "    }\n",
       "</style>\n",
       "<table border=\"1\" class=\"dataframe\">\n",
       "  <thead>\n",
       "    <tr style=\"text-align: right;\">\n",
       "      <th></th>\n",
       "      <th>movie_id</th>\n",
       "      <th>primary_title</th>\n",
       "      <th>original_title</th>\n",
       "      <th>start_year</th>\n",
       "      <th>runtime_minutes</th>\n",
       "      <th>genres</th>\n",
       "    </tr>\n",
       "  </thead>\n",
       "  <tbody>\n",
       "    <tr>\n",
       "      <th>0</th>\n",
       "      <td>tt0063540</td>\n",
       "      <td>Sunghursh</td>\n",
       "      <td>Sunghursh</td>\n",
       "      <td>2013</td>\n",
       "      <td>175.0</td>\n",
       "      <td>Action,Crime,Drama</td>\n",
       "    </tr>\n",
       "    <tr>\n",
       "      <th>1</th>\n",
       "      <td>tt0066787</td>\n",
       "      <td>One Day Before the Rainy Season</td>\n",
       "      <td>Ashad Ka Ek Din</td>\n",
       "      <td>2019</td>\n",
       "      <td>114.0</td>\n",
       "      <td>Biography,Drama</td>\n",
       "    </tr>\n",
       "    <tr>\n",
       "      <th>2</th>\n",
       "      <td>tt0069049</td>\n",
       "      <td>The Other Side of the Wind</td>\n",
       "      <td>The Other Side of the Wind</td>\n",
       "      <td>2018</td>\n",
       "      <td>122.0</td>\n",
       "      <td>Drama</td>\n",
       "    </tr>\n",
       "    <tr>\n",
       "      <th>3</th>\n",
       "      <td>tt0069204</td>\n",
       "      <td>Sabse Bada Sukh</td>\n",
       "      <td>Sabse Bada Sukh</td>\n",
       "      <td>2018</td>\n",
       "      <td>NaN</td>\n",
       "      <td>Comedy,Drama</td>\n",
       "    </tr>\n",
       "    <tr>\n",
       "      <th>4</th>\n",
       "      <td>tt0100275</td>\n",
       "      <td>The Wandering Soap Opera</td>\n",
       "      <td>La Telenovela Errante</td>\n",
       "      <td>2017</td>\n",
       "      <td>80.0</td>\n",
       "      <td>Comedy,Drama,Fantasy</td>\n",
       "    </tr>\n",
       "    <tr>\n",
       "      <th>...</th>\n",
       "      <td>...</td>\n",
       "      <td>...</td>\n",
       "      <td>...</td>\n",
       "      <td>...</td>\n",
       "      <td>...</td>\n",
       "      <td>...</td>\n",
       "    </tr>\n",
       "    <tr>\n",
       "      <th>146139</th>\n",
       "      <td>tt9916538</td>\n",
       "      <td>Kuambil Lagi Hatiku</td>\n",
       "      <td>Kuambil Lagi Hatiku</td>\n",
       "      <td>2019</td>\n",
       "      <td>123.0</td>\n",
       "      <td>Drama</td>\n",
       "    </tr>\n",
       "    <tr>\n",
       "      <th>146140</th>\n",
       "      <td>tt9916622</td>\n",
       "      <td>Rodolpho Teóphilo - O Legado de um Pioneiro</td>\n",
       "      <td>Rodolpho Teóphilo - O Legado de um Pioneiro</td>\n",
       "      <td>2015</td>\n",
       "      <td>NaN</td>\n",
       "      <td>Documentary</td>\n",
       "    </tr>\n",
       "    <tr>\n",
       "      <th>146141</th>\n",
       "      <td>tt9916706</td>\n",
       "      <td>Dankyavar Danka</td>\n",
       "      <td>Dankyavar Danka</td>\n",
       "      <td>2013</td>\n",
       "      <td>NaN</td>\n",
       "      <td>Comedy</td>\n",
       "    </tr>\n",
       "    <tr>\n",
       "      <th>146142</th>\n",
       "      <td>tt9916730</td>\n",
       "      <td>6 Gunn</td>\n",
       "      <td>6 Gunn</td>\n",
       "      <td>2017</td>\n",
       "      <td>116.0</td>\n",
       "      <td>None</td>\n",
       "    </tr>\n",
       "    <tr>\n",
       "      <th>146143</th>\n",
       "      <td>tt9916754</td>\n",
       "      <td>Chico Albuquerque - Revelações</td>\n",
       "      <td>Chico Albuquerque - Revelações</td>\n",
       "      <td>2013</td>\n",
       "      <td>NaN</td>\n",
       "      <td>Documentary</td>\n",
       "    </tr>\n",
       "  </tbody>\n",
       "</table>\n",
       "<p>146144 rows × 6 columns</p>\n",
       "</div>"
      ],
      "text/plain": [
       "         movie_id                                primary_title  \\\n",
       "0       tt0063540                                    Sunghursh   \n",
       "1       tt0066787              One Day Before the Rainy Season   \n",
       "2       tt0069049                   The Other Side of the Wind   \n",
       "3       tt0069204                              Sabse Bada Sukh   \n",
       "4       tt0100275                     The Wandering Soap Opera   \n",
       "...           ...                                          ...   \n",
       "146139  tt9916538                          Kuambil Lagi Hatiku   \n",
       "146140  tt9916622  Rodolpho Teóphilo - O Legado de um Pioneiro   \n",
       "146141  tt9916706                              Dankyavar Danka   \n",
       "146142  tt9916730                                       6 Gunn   \n",
       "146143  tt9916754               Chico Albuquerque - Revelações   \n",
       "\n",
       "                                     original_title  start_year  \\\n",
       "0                                         Sunghursh        2013   \n",
       "1                                   Ashad Ka Ek Din        2019   \n",
       "2                        The Other Side of the Wind        2018   \n",
       "3                                   Sabse Bada Sukh        2018   \n",
       "4                             La Telenovela Errante        2017   \n",
       "...                                             ...         ...   \n",
       "146139                          Kuambil Lagi Hatiku        2019   \n",
       "146140  Rodolpho Teóphilo - O Legado de um Pioneiro        2015   \n",
       "146141                              Dankyavar Danka        2013   \n",
       "146142                                       6 Gunn        2017   \n",
       "146143               Chico Albuquerque - Revelações        2013   \n",
       "\n",
       "        runtime_minutes                genres  \n",
       "0                 175.0    Action,Crime,Drama  \n",
       "1                 114.0       Biography,Drama  \n",
       "2                 122.0                 Drama  \n",
       "3                   NaN          Comedy,Drama  \n",
       "4                  80.0  Comedy,Drama,Fantasy  \n",
       "...                 ...                   ...  \n",
       "146139            123.0                 Drama  \n",
       "146140              NaN           Documentary  \n",
       "146141              NaN                Comedy  \n",
       "146142            116.0                  None  \n",
       "146143              NaN           Documentary  \n",
       "\n",
       "[146144 rows x 6 columns]"
      ]
     },
     "execution_count": 46,
     "metadata": {},
     "output_type": "execute_result"
    }
   ],
   "source": [
    "qo = \"\"\"\n",
    "SELECT *\n",
    "FROM movie_basics\n",
    ";\n",
    "\"\"\"\n",
    "pd.read_sql(qo, conn)"
   ]
  },
  {
   "cell_type": "markdown",
   "id": "64be211b-f5ca-4ad2-8547-a2f6843e2715",
   "metadata": {},
   "source": [
    "1. CLEANING DATA"
   ]
  },
  {
   "cell_type": "code",
   "execution_count": 94,
   "id": "67bbeab0-4ca6-4019-af86-1bbf63c0f806",
   "metadata": {},
   "outputs": [
    {
     "name": "stdout",
     "output_type": "stream",
     "text": [
      "                id\n",
      "count  5782.000000\n",
      "mean     50.372363\n",
      "std      28.821076\n",
      "min       1.000000\n",
      "25%      25.000000\n",
      "50%      50.000000\n",
      "75%      75.000000\n",
      "max     100.000000\n",
      "<class 'pandas.core.frame.DataFrame'>\n",
      "RangeIndex: 5782 entries, 0 to 5781\n",
      "Data columns (total 6 columns):\n",
      " #   Column             Non-Null Count  Dtype \n",
      "---  ------             --------------  ----- \n",
      " 0   id                 5782 non-null   int64 \n",
      " 1   release_date       5782 non-null   object\n",
      " 2   movie              5782 non-null   object\n",
      " 3   production_budget  5782 non-null   object\n",
      " 4   domestic_gross     5782 non-null   object\n",
      " 5   worldwide_gross    5782 non-null   object\n",
      "dtypes: int64(1), object(5)\n",
      "memory usage: 271.2+ KB\n",
      "None\n",
      "0       False\n",
      "1       False\n",
      "2       False\n",
      "3       False\n",
      "4       False\n",
      "        ...  \n",
      "5777    False\n",
      "5778    False\n",
      "5779    False\n",
      "5780    False\n",
      "5781    False\n",
      "Length: 5782, dtype: bool\n"
     ]
    }
   ],
   "source": [
    "df.isnull().sum()\n",
    "print(df.describe())\n",
    "print(df.info())\n",
    "print(df.duplicated())"
   ]
  },
  {
   "cell_type": "code",
   "execution_count": 179,
   "id": "43cfe81a-1040-47e3-805f-049f1ddab99b",
   "metadata": {},
   "outputs": [
    {
     "name": "stdout",
     "output_type": "stream",
     "text": [
      "id                 0\n",
      "synopsis          62\n",
      "rating             3\n",
      "genre              8\n",
      "director         199\n",
      "writer           449\n",
      "theater_date     359\n",
      "dvd_date         359\n",
      "currency        1220\n",
      "box_office      1220\n",
      "runtime           30\n",
      "studio          1066\n",
      "dtype: int64\n",
      "                id\n",
      "count  1560.000000\n",
      "mean   1007.303846\n",
      "std     579.164527\n",
      "min       1.000000\n",
      "25%     504.750000\n",
      "50%    1007.500000\n",
      "75%    1503.250000\n",
      "max    2000.000000\n",
      "<class 'pandas.core.frame.DataFrame'>\n",
      "RangeIndex: 1560 entries, 0 to 1559\n",
      "Data columns (total 12 columns):\n",
      " #   Column        Non-Null Count  Dtype \n",
      "---  ------        --------------  ----- \n",
      " 0   id            1560 non-null   int64 \n",
      " 1   synopsis      1498 non-null   object\n",
      " 2   rating        1557 non-null   object\n",
      " 3   genre         1552 non-null   object\n",
      " 4   director      1361 non-null   object\n",
      " 5   writer        1111 non-null   object\n",
      " 6   theater_date  1201 non-null   object\n",
      " 7   dvd_date      1201 non-null   object\n",
      " 8   currency      340 non-null    object\n",
      " 9   box_office    340 non-null    object\n",
      " 10  runtime       1530 non-null   object\n",
      " 11  studio        494 non-null    object\n",
      "dtypes: int64(1), object(11)\n",
      "memory usage: 146.4+ KB\n",
      "None\n"
     ]
    }
   ],
   "source": [
    "df1 \n",
    "print(df1.isnull().sum()) \n",
    "print(df1.describe())\n",
    "print(df1.info())"
   ]
  },
  {
   "cell_type": "code",
   "execution_count": 160,
   "id": "baf0109b-4ec3-4b4e-ad7e-ca9c8908c106",
   "metadata": {},
   "outputs": [
    {
     "name": "stdout",
     "output_type": "stream",
     "text": [
      "id                0\n",
      "review         5563\n",
      "rating        13517\n",
      "fresh             0\n",
      "critic         2722\n",
      "top_critic        0\n",
      "publisher       309\n",
      "date              0\n",
      "dtype: int64\n",
      "                 id    top_critic\n",
      "count  54432.000000  54432.000000\n",
      "mean    1045.706882      0.240594\n",
      "std      586.657046      0.427448\n",
      "min        3.000000      0.000000\n",
      "25%      542.000000      0.000000\n",
      "50%     1083.000000      0.000000\n",
      "75%     1541.000000      0.000000\n",
      "max     2000.000000      1.000000\n",
      "<class 'pandas.core.frame.DataFrame'>\n",
      "RangeIndex: 54432 entries, 0 to 54431\n",
      "Data columns (total 8 columns):\n",
      " #   Column      Non-Null Count  Dtype \n",
      "---  ------      --------------  ----- \n",
      " 0   id          54432 non-null  int64 \n",
      " 1   review      48869 non-null  object\n",
      " 2   rating      40915 non-null  object\n",
      " 3   fresh       54432 non-null  object\n",
      " 4   critic      51710 non-null  object\n",
      " 5   top_critic  54432 non-null  int64 \n",
      " 6   publisher   54123 non-null  object\n",
      " 7   date        54432 non-null  object\n",
      "dtypes: int64(2), object(6)\n",
      "memory usage: 3.3+ MB\n",
      "None\n"
     ]
    }
   ],
   "source": [
    "df2\n",
    "print(df2.isnull().sum())\n",
    "print(df2.describe())\n",
    "print(df2.info())"
   ]
  },
  {
   "cell_type": "code",
   "execution_count": 161,
   "id": "e955f271-6f1b-43a5-98c5-b0d378e9215e",
   "metadata": {},
   "outputs": [
    {
     "name": "stdout",
     "output_type": "stream",
     "text": [
      "Unnamed: 0           0\n",
      "genre_ids            0\n",
      "id                   0\n",
      "original_language    0\n",
      "original_title       0\n",
      "popularity           0\n",
      "release_date         0\n",
      "title                0\n",
      "vote_average         0\n",
      "vote_count           0\n",
      "dtype: int64\n",
      "        Unnamed: 0             id    popularity  \\\n",
      "count  26517.00000   26517.000000  26517.000000   \n",
      "mean   13258.00000  295050.153260      2.578497   \n",
      "min        0.00000      27.000000      0.000000   \n",
      "25%     6629.00000  157851.000000      0.000000   \n",
      "50%    13258.00000  309581.000000      1.000000   \n",
      "75%    19887.00000  419542.000000      3.000000   \n",
      "max    26516.00000  608444.000000     80.000000   \n",
      "std     7654.94288  153661.615648      4.395747   \n",
      "\n",
      "                        release_date  vote_average    vote_count  \n",
      "count                          26517  26517.000000  26517.000000  \n",
      "mean   2014-06-10 02:50:14.730173184      5.991281    194.224837  \n",
      "min              1930-04-29 00:00:00      0.000000      1.000000  \n",
      "25%              2012-06-29 00:00:00      5.000000      2.000000  \n",
      "50%              2014-09-19 00:00:00      6.000000      5.000000  \n",
      "75%              2016-10-01 00:00:00      7.000000     28.000000  \n",
      "max              2020-12-25 00:00:00     10.000000  22186.000000  \n",
      "std                              NaN      1.852946    960.961095  \n",
      "<class 'pandas.core.frame.DataFrame'>\n",
      "RangeIndex: 26517 entries, 0 to 26516\n",
      "Data columns (total 10 columns):\n",
      " #   Column             Non-Null Count  Dtype         \n",
      "---  ------             --------------  -----         \n",
      " 0   Unnamed: 0         26517 non-null  int64         \n",
      " 1   genre_ids          26517 non-null  object        \n",
      " 2   id                 26517 non-null  int64         \n",
      " 3   original_language  26517 non-null  object        \n",
      " 4   original_title     26517 non-null  object        \n",
      " 5   popularity         26517 non-null  int32         \n",
      " 6   release_date       26517 non-null  datetime64[ns]\n",
      " 7   title              26517 non-null  object        \n",
      " 8   vote_average       26517 non-null  float64       \n",
      " 9   vote_count         26517 non-null  int64         \n",
      "dtypes: datetime64[ns](1), float64(1), int32(1), int64(3), object(4)\n",
      "memory usage: 1.9+ MB\n",
      "None\n"
     ]
    }
   ],
   "source": [
    "df3\n",
    "print(df3.isnull().sum())\n",
    "print(df3.describe())\n",
    "print(df3.info())"
   ]
  },
  {
   "cell_type": "code",
   "execution_count": 111,
   "id": "5040f4e7-501c-4497-8c9a-80b703b4bbac",
   "metadata": {},
   "outputs": [],
   "source": [
    "df1.dropna(inplace=True)"
   ]
  },
  {
   "cell_type": "code",
   "execution_count": 87,
   "id": "fc66eed3-10f7-4c79-93bf-ea9c490abbb4",
   "metadata": {},
   "outputs": [],
   "source": [
    "df2 = df2.dropna(subset=['review'])"
   ]
  },
  {
   "cell_type": "markdown",
   "id": "d9b1518d-992b-4ecc-8b01-e5ff08205526",
   "metadata": {},
   "source": [
    "dropping the review column as its not relevant as a categorical variable"
   ]
  },
  {
   "cell_type": "code",
   "execution_count": 91,
   "id": "021da39e-4ad5-420f-94ab-39e770355ee0",
   "metadata": {},
   "outputs": [],
   "source": [
    "df2['date'] = pd.to_datetime(df2['date'])"
   ]
  },
  {
   "cell_type": "code",
   "execution_count": 94,
   "id": "03d24afb-16f1-4842-b546-b43354d55078",
   "metadata": {},
   "outputs": [],
   "source": [
    "df3['release_date'] = pd.to_datetime(df3['release_date'])"
   ]
  },
  {
   "cell_type": "code",
   "execution_count": 100,
   "id": "cd92cc01-2297-4c75-bccb-ce753dc35c39",
   "metadata": {},
   "outputs": [],
   "source": [
    "df1['theater_date'] = pd.to_datetime(df1['theater_date'])"
   ]
  },
  {
   "cell_type": "code",
   "execution_count": 102,
   "id": "6218506e-c3dc-46cf-8930-abeacfda6b01",
   "metadata": {},
   "outputs": [],
   "source": [
    "df['release_date'] = pd.to_datetime(df['release_date'])"
   ]
  },
  {
   "cell_type": "code",
   "execution_count": 132,
   "id": "977a7371-87b9-4259-84d6-090d0516f81a",
   "metadata": {},
   "outputs": [],
   "source": [
    "df2['rating'] = df2['rating'].astype(str)\n",
    "df2['rating'] = pd.to_numeric(df2['rating'].str[0], errors='coerce')\n",
    "df2['rating'].fillna(0, inplace=True)  # Replace NaN with 0"
   ]
  },
  {
   "cell_type": "code",
   "execution_count": 139,
   "id": "e7c3f03f-ba25-4115-bbb6-a09d46fcd99f",
   "metadata": {},
   "outputs": [],
   "source": [
    "df2.dropna(subset=['publisher'], inplace=True)"
   ]
  },
  {
   "cell_type": "code",
   "execution_count": 143,
   "id": "cd8eb6cf-4abc-40c7-ad64-1c2f30561f92",
   "metadata": {},
   "outputs": [],
   "source": [
    "df2.drop(columns=['critic'], inplace=True)"
   ]
  },
  {
   "cell_type": "code",
   "execution_count": 152,
   "id": "93c2f4f0-43d5-4903-9dc0-29137713d53e",
   "metadata": {},
   "outputs": [
    {
     "data": {
      "image/png": "[encoded data removed]",
      "text/plain": [
       "<Figure size 640x480 with 1 Axes>"
      ]
     },
     "metadata": {},
     "output_type": "display_data"
    }
   ],
   "source": [
    "import matplotlib.pyplot as plt\n",
    " \n",
    "# Creating plot\n",
    "plt.boxplot(df2['rating'])\n",
    " \n",
    "# show plot\n",
    "plt.show()"
   ]
  },
  {
   "cell_type": "code",
   "execution_count": 24,
   "id": "dfcaf935-976a-4f5e-83e5-f9040b6ece84",
   "metadata": {},
   "outputs": [
    {
     "data": {
      "text/plain": [
       "26512    en\n",
       "26513    en\n",
       "26514    en\n",
       "26515    en\n",
       "26516    en\n",
       "Name: original_language, dtype: object"
      ]
     },
     "execution_count": 24,
     "metadata": {},
     "output_type": "execute_result"
    }
   ],
   "source": [
    "df3['original_language'].tail()"
   ]
  },
  {
   "cell_type": "code",
   "execution_count": 160,
   "id": "9d556801-9701-468d-816b-aa0aad94c1c4",
   "metadata": {},
   "outputs": [],
   "source": [
    "df3['popularity'] = df3['popularity'].astype(int)\n",
    "df3['popularity'] = pd.to_numeric(df3['popularity'], errors='coerce').fillna(0).astype(int)"
   ]
  },
  {
   "cell_type": "code",
   "execution_count": 125,
   "id": "8ef77536-861f-4583-9af4-a88ba961596c",
   "metadata": {},
   "outputs": [
    {
     "data": {
      "text/plain": [
       "<Axes: >"
      ]
     },
     "execution_count": 125,
     "metadata": {},
     "output_type": "execute_result"
    },
    {
     "data": {
      "image/png": "[encoded data removed]",
      "text/plain": [
       "<Figure size 640x480 with 1 Axes>"
      ]
     },
     "metadata": {},
     "output_type": "display_data"
    }
   ],
   "source": [
    "#checking outliers\n",
    "import seaborn as sns\n",
    "sns.boxplot(df3['popularity'])"
   ]
  },
  {
   "cell_type": "code",
   "execution_count": 182,
   "id": "81562c55-25e3-4e6c-b1a3-e16d43eaf101",
   "metadata": {},
   "outputs": [],
   "source": [
    "df1['runtime'] = df1['runtime'].str.extract('(\\d+)')  # Extract numeric part\n",
    "df1['runtime'] = pd.to_numeric(df1['runtime'], errors='coerce')  # Convert to numeric, invalid parsing will be set as NaN\n",
    "\n",
    "# Fill NaN values with 0 or any appropriate value\n",
    "df1['runtime'] = df1['runtime'].fillna(0).astype(int)"
   ]
  },
  {
   "cell_type": "code",
   "execution_count": 243,
   "id": "06da0991-7255-4ba0-9ca1-eef80e14b1dc",
   "metadata": {},
   "outputs": [],
   "source": [
    "runtime_mean = df1['runtime'].mean()"
   ]
  },
  {
   "cell_type": "markdown",
   "id": "8a657995-a55b-4646-9e6f-13007e8a2e4c",
   "metadata": {},
   "source": [
    "The average mean runtime is 102 minutes which affects the viewers attention span"
   ]
  },
  {
   "cell_type": "markdown",
   "id": "7551fe23-3ebc-4b7d-82aa-a99332609c43",
   "metadata": {},
   "source": [
    "The average gives us the mean of the vote average to get the most average and high voted movies"
   ]
  },
  {
   "cell_type": "code",
   "execution_count": 116,
   "id": "aca99f59-5784-44b5-a047-b7e2bb9a656b",
   "metadata": {},
   "outputs": [
    {
     "name": "stdout",
     "output_type": "stream",
     "text": [
      "en\n",
      "ha\n"
     ]
    }
   ],
   "source": [
    "language_counts = df3['original_language'].value_counts()\n",
    "\n",
    "# Find the most used language\n",
    "most_used_language = language_counts.idxmax()\n",
    "least_used_langauge = language_counts.idxmin()\n",
    "print(most_used_language)\n",
    "print(least_used_langauge)"
   ]
  },
  {
   "cell_type": "markdown",
   "id": "540b4f9f-8530-44f4-97b0-f18becdf13d9",
   "metadata": {},
   "source": [
    "We got the movies languages to get The most used language in movies is English while the least is ha"
   ]
  },
  {
   "cell_type": "code",
   "execution_count": 115,
   "id": "fc295daa-26fb-44d9-b268-41508f1b5509",
   "metadata": {},
   "outputs": [
    {
     "name": "stdout",
     "output_type": "stream",
     "text": [
      "R\n",
      "NC17\n"
     ]
    }
   ],
   "source": [
    "rating_counts = df1['rating'].value_counts()\n",
    "most_ratings = rating_counts.idxmax()\n",
    "least_ratings = rating_counts.idxmin()\n",
    "print(most_ratings)\n",
    "print(least_ratings)"
   ]
  },
  {
   "cell_type": "markdown",
   "id": "f5aeca23-d1ef-473f-a748-0902f9560f1b",
   "metadata": {},
   "source": [
    "We got the most ratings which most people used which is R moves and the least ratings is NC17"
   ]
  },
  {
   "cell_type": "code",
   "execution_count": 114,
   "id": "2c93a694-1b85-4c38-93c8-1102b70fdd94",
   "metadata": {},
   "outputs": [
    {
     "name": "stdout",
     "output_type": "stream",
     "text": [
      "Drama\n",
      "Science Fiction and Fantasy\n"
     ]
    }
   ],
   "source": [
    "genre_counts = df1['genre'].value_counts()\n",
    "most_counts = genre_counts.idxmax()\n",
    "least_counts = genre_counts.idxmin()\n",
    "print(most_counts)\n",
    "print(least_counts)"
   ]
  },
  {
   "cell_type": "markdown",
   "id": "1ff36dd2-29d7-4e6a-9fb8-ceb9c24db95f",
   "metadata": {},
   "source": [
    "We got the genre produced  which is Drama and least being science fiction and fantasy\r\n",
    "\r\n",
    "\r\n"
   ]
  },
  {
   "cell_type": "code",
   "execution_count": 113,
   "id": "1758f2a0-3536-43cb-a1fd-118f84fb43a8",
   "metadata": {},
   "outputs": [
    {
     "name": "stdout",
     "output_type": "stream",
     "text": [
      "91 minutes\n",
      "138 minutes\n"
     ]
    }
   ],
   "source": [
    "runtime_counts = df1['runtime'].value_counts()\n",
    "most_counts = runtime_counts.idxmax()\n",
    "least_counts = runtime_counts.idxmin()\n",
    "print(most_counts)\n",
    "print(least_counts)"
   ]
  },
  {
   "cell_type": "markdown",
   "id": "23cee2e6-c286-4901-a1bf-c557d2f0aabd",
   "metadata": {},
   "source": [
    "The most movies runtime is 90 minutes, while the least being 64 minutes "
   ]
  },
  {
   "cell_type": "raw",
   "id": "1f0ba792-438b-4f68-b4c6-507f4db567b4",
   "metadata": {},
   "source": [
    "merge runtime with average votes, rating, runtime by language, runtime vs. vote_average, runtime with rating, "
   ]
  },
  {
   "cell_type": "code",
   "execution_count": 55,
   "id": "489d4c7f-f1ce-4578-adb5-3ca48ad5d270",
   "metadata": {},
   "outputs": [
    {
     "data": {
      "text/html": [
       "<div>\n",
       "<style scoped>\n",
       "    .dataframe tbody tr th:only-of-type {\n",
       "        vertical-align: middle;\n",
       "    }\n",
       "\n",
       "    .dataframe tbody tr th {\n",
       "        vertical-align: top;\n",
       "    }\n",
       "\n",
       "    .dataframe thead th {\n",
       "        text-align: right;\n",
       "    }\n",
       "</style>\n",
       "<table border=\"1\" class=\"dataframe\">\n",
       "  <thead>\n",
       "    <tr style=\"text-align: right;\">\n",
       "      <th></th>\n",
       "      <th>movie_id</th>\n",
       "      <th>averagerating</th>\n",
       "      <th>numvotes</th>\n",
       "    </tr>\n",
       "  </thead>\n",
       "  <tbody>\n",
       "    <tr>\n",
       "      <th>0</th>\n",
       "      <td>tt10356526</td>\n",
       "      <td>8.3</td>\n",
       "      <td>31</td>\n",
       "    </tr>\n",
       "    <tr>\n",
       "      <th>1</th>\n",
       "      <td>tt10384606</td>\n",
       "      <td>8.9</td>\n",
       "      <td>559</td>\n",
       "    </tr>\n",
       "    <tr>\n",
       "      <th>2</th>\n",
       "      <td>tt1042974</td>\n",
       "      <td>6.4</td>\n",
       "      <td>20</td>\n",
       "    </tr>\n",
       "    <tr>\n",
       "      <th>3</th>\n",
       "      <td>tt1043726</td>\n",
       "      <td>4.2</td>\n",
       "      <td>50352</td>\n",
       "    </tr>\n",
       "    <tr>\n",
       "      <th>4</th>\n",
       "      <td>tt1060240</td>\n",
       "      <td>6.5</td>\n",
       "      <td>21</td>\n",
       "    </tr>\n",
       "    <tr>\n",
       "      <th>...</th>\n",
       "      <td>...</td>\n",
       "      <td>...</td>\n",
       "      <td>...</td>\n",
       "    </tr>\n",
       "    <tr>\n",
       "      <th>73851</th>\n",
       "      <td>tt9805820</td>\n",
       "      <td>8.1</td>\n",
       "      <td>25</td>\n",
       "    </tr>\n",
       "    <tr>\n",
       "      <th>73852</th>\n",
       "      <td>tt9844256</td>\n",
       "      <td>7.5</td>\n",
       "      <td>24</td>\n",
       "    </tr>\n",
       "    <tr>\n",
       "      <th>73853</th>\n",
       "      <td>tt9851050</td>\n",
       "      <td>4.7</td>\n",
       "      <td>14</td>\n",
       "    </tr>\n",
       "    <tr>\n",
       "      <th>73854</th>\n",
       "      <td>tt9886934</td>\n",
       "      <td>7.0</td>\n",
       "      <td>5</td>\n",
       "    </tr>\n",
       "    <tr>\n",
       "      <th>73855</th>\n",
       "      <td>tt9894098</td>\n",
       "      <td>6.3</td>\n",
       "      <td>128</td>\n",
       "    </tr>\n",
       "  </tbody>\n",
       "</table>\n",
       "<p>73856 rows × 3 columns</p>\n",
       "</div>"
      ],
      "text/plain": [
       "         movie_id  averagerating  numvotes\n",
       "0      tt10356526            8.3        31\n",
       "1      tt10384606            8.9       559\n",
       "2       tt1042974            6.4        20\n",
       "3       tt1043726            4.2     50352\n",
       "4       tt1060240            6.5        21\n",
       "...           ...            ...       ...\n",
       "73851   tt9805820            8.1        25\n",
       "73852   tt9844256            7.5        24\n",
       "73853   tt9851050            4.7        14\n",
       "73854   tt9886934            7.0         5\n",
       "73855   tt9894098            6.3       128\n",
       "\n",
       "[73856 rows x 3 columns]"
      ]
     },
     "execution_count": 55,
     "metadata": {},
     "output_type": "execute_result"
    }
   ],
   "source": [
    "qo = \"\"\"\n",
    "SELECT *\n",
    "FROM movie_ratings\n",
    ";\n",
    "\"\"\"\n",
    "pd.read_sql(qo, conn)"
   ]
  },
  {
   "cell_type": "code",
   "execution_count": 63,
   "id": "12a42c07-e222-43c5-9a17-598661e12495",
   "metadata": {},
   "outputs": [
    {
     "data": {
      "text/html": [
       "<div>\n",
       "<style scoped>\n",
       "    .dataframe tbody tr th:only-of-type {\n",
       "        vertical-align: middle;\n",
       "    }\n",
       "\n",
       "    .dataframe tbody tr th {\n",
       "        vertical-align: top;\n",
       "    }\n",
       "\n",
       "    .dataframe thead th {\n",
       "        text-align: right;\n",
       "    }\n",
       "</style>\n",
       "<table border=\"1\" class=\"dataframe\">\n",
       "  <thead>\n",
       "    <tr style=\"text-align: right;\">\n",
       "      <th></th>\n",
       "      <th>average</th>\n",
       "    </tr>\n",
       "  </thead>\n",
       "  <tbody>\n",
       "    <tr>\n",
       "      <th>0</th>\n",
       "      <td>6.332729</td>\n",
       "    </tr>\n",
       "  </tbody>\n",
       "</table>\n",
       "</div>"
      ],
      "text/plain": [
       "    average\n",
       "0  6.332729"
      ]
     },
     "execution_count": 63,
     "metadata": {},
     "output_type": "execute_result"
    }
   ],
   "source": [
    "qo = \"\"\"\n",
    "SELECT AVG(averagerating) AS average\n",
    "FROM movie_ratings\n",
    ";\n",
    "\"\"\"\n",
    "pd.read_sql(qo, conn)"
   ]
  },
  {
   "cell_type": "code",
   "execution_count": 79,
   "id": "e83bce89-0d6c-4996-a6d9-d166cb6e76ac",
   "metadata": {},
   "outputs": [
    {
     "data": {
      "text/html": [
       "<div>\n",
       "<style scoped>\n",
       "    .dataframe tbody tr th:only-of-type {\n",
       "        vertical-align: middle;\n",
       "    }\n",
       "\n",
       "    .dataframe tbody tr th {\n",
       "        vertical-align: top;\n",
       "    }\n",
       "\n",
       "    .dataframe thead th {\n",
       "        text-align: right;\n",
       "    }\n",
       "</style>\n",
       "<table border=\"1\" class=\"dataframe\">\n",
       "  <thead>\n",
       "    <tr style=\"text-align: right;\">\n",
       "      <th></th>\n",
       "      <th>genres</th>\n",
       "      <th>movie_count</th>\n",
       "    </tr>\n",
       "  </thead>\n",
       "  <tbody>\n",
       "    <tr>\n",
       "      <th>0</th>\n",
       "      <td>Documentary</td>\n",
       "      <td>32185</td>\n",
       "    </tr>\n",
       "  </tbody>\n",
       "</table>\n",
       "</div>"
      ],
      "text/plain": [
       "        genres  movie_count\n",
       "0  Documentary        32185"
      ]
     },
     "execution_count": 79,
     "metadata": {},
     "output_type": "execute_result"
    }
   ],
   "source": [
    "qo = \"\"\"SELECT genres, COUNT(*) AS movie_count\n",
    "FROM movie_basics\n",
    "GROUP BY genres\n",
    "ORDER BY movie_count DESC\n",
    "LIMIT 1\n",
    ";\n",
    "\"\"\"\n",
    "pd.read_sql(qo, conn)"
   ]
  },
  {
   "cell_type": "markdown",
   "id": "13b32e11-ac63-419a-8250-06817530849d",
   "metadata": {},
   "source": [
    "MAXIMUM GENRES PRODUCED"
   ]
  },
  {
   "cell_type": "code",
   "execution_count": 80,
   "id": "7eed2228-f68f-46e0-a72b-8c9e8e200f2c",
   "metadata": {},
   "outputs": [
    {
     "data": {
      "text/html": [
       "<div>\n",
       "<style scoped>\n",
       "    .dataframe tbody tr th:only-of-type {\n",
       "        vertical-align: middle;\n",
       "    }\n",
       "\n",
       "    .dataframe tbody tr th {\n",
       "        vertical-align: top;\n",
       "    }\n",
       "\n",
       "    .dataframe thead th {\n",
       "        text-align: right;\n",
       "    }\n",
       "</style>\n",
       "<table border=\"1\" class=\"dataframe\">\n",
       "  <thead>\n",
       "    <tr style=\"text-align: right;\">\n",
       "      <th></th>\n",
       "      <th>genres</th>\n",
       "      <th>movie_count</th>\n",
       "    </tr>\n",
       "  </thead>\n",
       "  <tbody>\n",
       "    <tr>\n",
       "      <th>0</th>\n",
       "      <td>Action,Adventure,Musical</td>\n",
       "      <td>1</td>\n",
       "    </tr>\n",
       "  </tbody>\n",
       "</table>\n",
       "</div>"
      ],
      "text/plain": [
       "                     genres  movie_count\n",
       "0  Action,Adventure,Musical            1"
      ]
     },
     "execution_count": 80,
     "metadata": {},
     "output_type": "execute_result"
    }
   ],
   "source": [
    "qo = \"\"\"SELECT genres, COUNT(*) AS movie_count\n",
    "FROM movie_basics\n",
    "GROUP BY genres\n",
    "ORDER BY movie_count ASC\n",
    "LIMIT 1;\n",
    "\"\"\"\n",
    "pd.read_sql(qo, conn)\n",
    "\n"
   ]
  },
  {
   "cell_type": "markdown",
   "id": "6e7c9864-6914-49a2-934f-fd681bbb3edc",
   "metadata": {},
   "source": [
    "LEAST PRODUCED GENRES"
   ]
  },
  {
   "cell_type": "code",
   "execution_count": 81,
   "id": "9c3ee8f6-435c-482c-9c40-91b1f26171f8",
   "metadata": {},
   "outputs": [
    {
     "data": {
      "text/html": [
       "<div>\n",
       "<style scoped>\n",
       "    .dataframe tbody tr th:only-of-type {\n",
       "        vertical-align: middle;\n",
       "    }\n",
       "\n",
       "    .dataframe tbody tr th {\n",
       "        vertical-align: top;\n",
       "    }\n",
       "\n",
       "    .dataframe thead th {\n",
       "        text-align: right;\n",
       "    }\n",
       "</style>\n",
       "<table border=\"1\" class=\"dataframe\">\n",
       "  <thead>\n",
       "    <tr style=\"text-align: right;\">\n",
       "      <th></th>\n",
       "      <th>genres</th>\n",
       "      <th>movie_count</th>\n",
       "    </tr>\n",
       "  </thead>\n",
       "  <tbody>\n",
       "    <tr>\n",
       "      <th>0</th>\n",
       "      <td>Documentary</td>\n",
       "      <td>32185</td>\n",
       "    </tr>\n",
       "    <tr>\n",
       "      <th>1</th>\n",
       "      <td>Action,Adventure,Musical</td>\n",
       "      <td>1</td>\n",
       "    </tr>\n",
       "    <tr>\n",
       "      <th>2</th>\n",
       "      <td>Action,Animation,Biography</td>\n",
       "      <td>1</td>\n",
       "    </tr>\n",
       "    <tr>\n",
       "      <th>3</th>\n",
       "      <td>Action,Animation,Documentary</td>\n",
       "      <td>1</td>\n",
       "    </tr>\n",
       "    <tr>\n",
       "      <th>4</th>\n",
       "      <td>Action,Animation,History</td>\n",
       "      <td>1</td>\n",
       "    </tr>\n",
       "    <tr>\n",
       "      <th>...</th>\n",
       "      <td>...</td>\n",
       "      <td>...</td>\n",
       "    </tr>\n",
       "    <tr>\n",
       "      <th>231</th>\n",
       "      <td>Short,Thriller</td>\n",
       "      <td>1</td>\n",
       "    </tr>\n",
       "    <tr>\n",
       "      <th>232</th>\n",
       "      <td>Sport,Talk-Show</td>\n",
       "      <td>1</td>\n",
       "    </tr>\n",
       "    <tr>\n",
       "      <th>233</th>\n",
       "      <td>Sport,Thriller</td>\n",
       "      <td>1</td>\n",
       "    </tr>\n",
       "    <tr>\n",
       "      <th>234</th>\n",
       "      <td>Thriller,War,Western</td>\n",
       "      <td>1</td>\n",
       "    </tr>\n",
       "    <tr>\n",
       "      <th>235</th>\n",
       "      <td>War,Western</td>\n",
       "      <td>1</td>\n",
       "    </tr>\n",
       "  </tbody>\n",
       "</table>\n",
       "<p>236 rows × 2 columns</p>\n",
       "</div>"
      ],
      "text/plain": [
       "                           genres  movie_count\n",
       "0                     Documentary        32185\n",
       "1        Action,Adventure,Musical            1\n",
       "2      Action,Animation,Biography            1\n",
       "3    Action,Animation,Documentary            1\n",
       "4        Action,Animation,History            1\n",
       "..                            ...          ...\n",
       "231                Short,Thriller            1\n",
       "232               Sport,Talk-Show            1\n",
       "233                Sport,Thriller            1\n",
       "234          Thriller,War,Western            1\n",
       "235                   War,Western            1\n",
       "\n",
       "[236 rows x 2 columns]"
      ]
     },
     "execution_count": 81,
     "metadata": {},
     "output_type": "execute_result"
    }
   ],
   "source": [
    "qo = \"\"\"WITH genre_counts AS (\n",
    "    SELECT genres, COUNT(*) AS movie_count\n",
    "    FROM movie_basics\n",
    "    GROUP BY genres\n",
    ")\n",
    "SELECT genres, movie_count\n",
    "FROM genre_counts\n",
    "WHERE movie_count = (SELECT MAX(movie_count) FROM genre_counts)\n",
    "UNION ALL\n",
    "SELECT genres, movie_count\n",
    "FROM genre_counts\n",
    "WHERE movie_count = (SELECT MIN(movie_count) FROM genre_counts);\n",
    "\"\"\"\n",
    "pd.read_sql(qo, conn)\n"
   ]
  },
  {
   "cell_type": "code",
   "execution_count": 82,
   "id": "0c0c41df-1163-49e5-9ea7-7d452af28b73",
   "metadata": {},
   "outputs": [
    {
     "data": {
      "text/html": [
       "<div>\n",
       "<style scoped>\n",
       "    .dataframe tbody tr th:only-of-type {\n",
       "        vertical-align: middle;\n",
       "    }\n",
       "\n",
       "    .dataframe tbody tr th {\n",
       "        vertical-align: top;\n",
       "    }\n",
       "\n",
       "    .dataframe thead th {\n",
       "        text-align: right;\n",
       "    }\n",
       "</style>\n",
       "<table border=\"1\" class=\"dataframe\">\n",
       "  <thead>\n",
       "    <tr style=\"text-align: right;\">\n",
       "      <th></th>\n",
       "      <th>genres</th>\n",
       "      <th>average_rating</th>\n",
       "    </tr>\n",
       "  </thead>\n",
       "  <tbody>\n",
       "    <tr>\n",
       "      <th>0</th>\n",
       "      <td>Comedy,Documentary,Fantasy</td>\n",
       "      <td>9.4</td>\n",
       "    </tr>\n",
       "  </tbody>\n",
       "</table>\n",
       "</div>"
      ],
      "text/plain": [
       "                       genres  average_rating\n",
       "0  Comedy,Documentary,Fantasy             9.4"
      ]
     },
     "execution_count": 82,
     "metadata": {},
     "output_type": "execute_result"
    }
   ],
   "source": [
    "qo = \"\"\"SELECT movie_basics.genres, AVG(movie_ratings.averagerating) AS average_rating\n",
    "FROM movie_basics\n",
    "JOIN movie_ratings ON movie_basics.movie_id = movie_ratings.movie_id\n",
    "GROUP BY movie_basics.genres\n",
    "ORDER BY average_rating DESC\n",
    "LIMIT 1;\n",
    "\"\"\"\n",
    "pd.read_sql(qo, conn)\n",
    "\n"
   ]
  },
  {
   "cell_type": "markdown",
   "id": "78fc785e-7d3c-4b80-902f-57d5e745ec32",
   "metadata": {},
   "source": [
    "MOST POPULAR GENRE BY AVERAGE RATING"
   ]
  },
  {
   "cell_type": "code",
   "execution_count": 84,
   "id": "cb1e4a2b-6170-4176-b740-d50a0433b55f",
   "metadata": {},
   "outputs": [
    {
     "data": {
      "text/html": [
       "<div>\n",
       "<style scoped>\n",
       "    .dataframe tbody tr th:only-of-type {\n",
       "        vertical-align: middle;\n",
       "    }\n",
       "\n",
       "    .dataframe tbody tr th {\n",
       "        vertical-align: top;\n",
       "    }\n",
       "\n",
       "    .dataframe thead th {\n",
       "        text-align: right;\n",
       "    }\n",
       "</style>\n",
       "<table border=\"1\" class=\"dataframe\">\n",
       "  <thead>\n",
       "    <tr style=\"text-align: right;\">\n",
       "      <th></th>\n",
       "      <th>genres</th>\n",
       "      <th>average_rating</th>\n",
       "      <th>total_votes</th>\n",
       "    </tr>\n",
       "  </thead>\n",
       "  <tbody>\n",
       "    <tr>\n",
       "      <th>0</th>\n",
       "      <td>Comedy,Documentary,Fantasy</td>\n",
       "      <td>9.4</td>\n",
       "      <td>5</td>\n",
       "    </tr>\n",
       "    <tr>\n",
       "      <th>1</th>\n",
       "      <td>Documentary,Family,Musical</td>\n",
       "      <td>9.3</td>\n",
       "      <td>19</td>\n",
       "    </tr>\n",
       "    <tr>\n",
       "      <th>2</th>\n",
       "      <td>History,Sport</td>\n",
       "      <td>9.2</td>\n",
       "      <td>5</td>\n",
       "    </tr>\n",
       "    <tr>\n",
       "      <th>3</th>\n",
       "      <td>Game-Show</td>\n",
       "      <td>9.0</td>\n",
       "      <td>7</td>\n",
       "    </tr>\n",
       "    <tr>\n",
       "      <th>4</th>\n",
       "      <td>Music,Mystery</td>\n",
       "      <td>9.0</td>\n",
       "      <td>5</td>\n",
       "    </tr>\n",
       "    <tr>\n",
       "      <th>5</th>\n",
       "      <td>Documentary,News,Sport</td>\n",
       "      <td>8.8</td>\n",
       "      <td>25</td>\n",
       "    </tr>\n",
       "    <tr>\n",
       "      <th>6</th>\n",
       "      <td>Drama,Fantasy,War</td>\n",
       "      <td>8.8</td>\n",
       "      <td>22</td>\n",
       "    </tr>\n",
       "    <tr>\n",
       "      <th>7</th>\n",
       "      <td>Comedy,Drama,Reality-TV</td>\n",
       "      <td>8.8</td>\n",
       "      <td>15</td>\n",
       "    </tr>\n",
       "    <tr>\n",
       "      <th>8</th>\n",
       "      <td>Documentary,News,Reality-TV</td>\n",
       "      <td>8.8</td>\n",
       "      <td>8</td>\n",
       "    </tr>\n",
       "    <tr>\n",
       "      <th>9</th>\n",
       "      <td>Drama,Short</td>\n",
       "      <td>8.8</td>\n",
       "      <td>8</td>\n",
       "    </tr>\n",
       "  </tbody>\n",
       "</table>\n",
       "</div>"
      ],
      "text/plain": [
       "                        genres  average_rating  total_votes\n",
       "0   Comedy,Documentary,Fantasy             9.4            5\n",
       "1   Documentary,Family,Musical             9.3           19\n",
       "2                History,Sport             9.2            5\n",
       "3                    Game-Show             9.0            7\n",
       "4                Music,Mystery             9.0            5\n",
       "5       Documentary,News,Sport             8.8           25\n",
       "6            Drama,Fantasy,War             8.8           22\n",
       "7      Comedy,Drama,Reality-TV             8.8           15\n",
       "8  Documentary,News,Reality-TV             8.8            8\n",
       "9                  Drama,Short             8.8            8"
      ]
     },
     "execution_count": 84,
     "metadata": {},
     "output_type": "execute_result"
    }
   ],
   "source": [
    "qo = \"\"\"SELECT movie_basics.genres, AVG(movie_ratings.averagerating) AS average_rating, SUM(movie_ratings.numvotes) AS total_votes\n",
    "FROM movie_basics\n",
    "JOIN movie_ratings ON movie_basics.movie_id = movie_ratings.movie_id\n",
    "GROUP BY movie_basics.genres\n",
    "ORDER BY average_rating DESC, total_votes DESC\n",
    "LIMIT 10;\n",
    "\"\"\"\n",
    "pd.read_sql(qo, conn)\n"
   ]
  },
  {
   "cell_type": "code",
   "execution_count": 85,
   "id": "17cc4287-d310-41a9-9e8e-0ae491d9f6a4",
   "metadata": {},
   "outputs": [
    {
     "data": {
      "text/html": [
       "<div>\n",
       "<style scoped>\n",
       "    .dataframe tbody tr th:only-of-type {\n",
       "        vertical-align: middle;\n",
       "    }\n",
       "\n",
       "    .dataframe tbody tr th {\n",
       "        vertical-align: top;\n",
       "    }\n",
       "\n",
       "    .dataframe thead th {\n",
       "        text-align: right;\n",
       "    }\n",
       "</style>\n",
       "<table border=\"1\" class=\"dataframe\">\n",
       "  <thead>\n",
       "    <tr style=\"text-align: right;\">\n",
       "      <th></th>\n",
       "      <th>genres</th>\n",
       "      <th>average_rating</th>\n",
       "    </tr>\n",
       "  </thead>\n",
       "  <tbody>\n",
       "    <tr>\n",
       "      <th>0</th>\n",
       "      <td>Comedy,Musical,Sport</td>\n",
       "      <td>1.4</td>\n",
       "    </tr>\n",
       "  </tbody>\n",
       "</table>\n",
       "</div>"
      ],
      "text/plain": [
       "                 genres  average_rating\n",
       "0  Comedy,Musical,Sport             1.4"
      ]
     },
     "execution_count": 85,
     "metadata": {},
     "output_type": "execute_result"
    }
   ],
   "source": [
    "qo = \"\"\"SELECT movie_basics.genres, AVG(movie_ratings.averagerating) AS average_rating\n",
    "FROM movie_basics\n",
    "JOIN movie_ratings ON movie_basics.movie_id = movie_ratings.movie_id\n",
    "GROUP BY movie_basics.genres\n",
    "ORDER BY average_rating ASC\n",
    "LIMIT 1;\n",
    "\n",
    "\"\"\"\n",
    "pd.read_sql(qo, conn)"
   ]
  },
  {
   "cell_type": "markdown",
   "id": "a3b101ab-2a26-4a8f-881f-df956d9d5130",
   "metadata": {},
   "source": [
    "LEAST GENRE BY AVERAGE RATING"
   ]
  },
  {
   "cell_type": "code",
   "execution_count": 86,
   "id": "55df0021-6e88-4d8e-9686-274859c85c0f",
   "metadata": {},
   "outputs": [
    {
     "data": {
      "text/html": [
       "<div>\n",
       "<style scoped>\n",
       "    .dataframe tbody tr th:only-of-type {\n",
       "        vertical-align: middle;\n",
       "    }\n",
       "\n",
       "    .dataframe tbody tr th {\n",
       "        vertical-align: top;\n",
       "    }\n",
       "\n",
       "    .dataframe thead th {\n",
       "        text-align: right;\n",
       "    }\n",
       "</style>\n",
       "<table border=\"1\" class=\"dataframe\">\n",
       "  <thead>\n",
       "    <tr style=\"text-align: right;\">\n",
       "      <th></th>\n",
       "      <th>genres</th>\n",
       "      <th>average_rating</th>\n",
       "    </tr>\n",
       "  </thead>\n",
       "  <tbody>\n",
       "    <tr>\n",
       "      <th>0</th>\n",
       "      <td>Comedy,Musical,Sport</td>\n",
       "      <td>1.4</td>\n",
       "    </tr>\n",
       "  </tbody>\n",
       "</table>\n",
       "</div>"
      ],
      "text/plain": [
       "                 genres  average_rating\n",
       "0  Comedy,Musical,Sport             1.4"
      ]
     },
     "execution_count": 86,
     "metadata": {},
     "output_type": "execute_result"
    }
   ],
   "source": [
    "o = \"\"\"SELECT movie_basics.genres, AVG(movie_ratings.averagerating) AS average_rating, SUM(movie_ratings.numvotes) AS total_votes\n",
    "FROM movie_basics\n",
    "JOIN movie_ratings ON movie_basics.movie_id = movie_ratings.movie_id\n",
    "GROUP BY movie_basics.genres\n",
    "ORDER BY average_rating ASC, total_votes DESC;\n",
    "\n",
    "\"\"\"\n",
    "pd.read_sql(qo, conn)\n"
   ]
  },
  {
   "cell_type": "markdown",
   "id": "b2703365-7c67-487a-b7ba-66c9c0f1c651",
   "metadata": {},
   "source": [
    "FIND BEST FIT AND PLOT TO FIND RELATIONSHIP WITH rating, genre, director, writer, runtime      studio"
   ]
  },
  {
   "cell_type": "markdown",
   "id": "ae43ea38-ccef-47d7-ac48-34bf494f3c89",
   "metadata": {},
   "source": [
    "rating,   original_language,  vote_average  ,vote_count , original_language"
   ]
  },
  {
   "cell_type": "markdown",
   "id": "656bfaa2-b2aa-47c4-8f0f-2e436ec9b296",
   "metadata": {},
   "source": [
    "POPULARITY IN THE MARKET\n",
    "1. We got the movies languages to get The most used language in movies is English while the least is ha\n",
    "2. R\r\n",
    "NC17\r\n",
    "We got the most ratings which most people used which is R moves and the least ratings is NC\n",
    "3. Drama\r\n",
    "Science Fiction and Fantasy\r\n",
    "We got the genre produced which is Drama and least being comedy musical and performing ar\n",
    "4. Clint Eastwood\r\n",
    "Kevin Smith\r\n",
    "DIRECTOR WITH THE MOST AND LEAST PRODUCED MOVI\n",
    "5. 101.96858974358975\r\n",
    "The average mean runtime is 102 minutes which affects the viewers attention spanESts17"
   ]
  },
  {
   "cell_type": "code",
   "execution_count": 119,
   "id": "f6b7ecb9-6fc8-476b-bd10-2d8107f73b8d",
   "metadata": {},
   "outputs": [
    {
     "name": "stdout",
     "output_type": "stream",
     "text": [
      "Clint Eastwood\n",
      "Kevin Smith\n"
     ]
    }
   ],
   "source": [
    "director = df1['director'].value_counts()\n",
    "most_counts = director.idxmax()\n",
    "least_counts = director.idxmin()\n",
    "print(most_counts)\n",
    "print(least_counts)"
   ]
  },
  {
   "cell_type": "markdown",
   "id": "beee48b5-8fe0-423c-a318-09342596ff1a",
   "metadata": {},
   "source": [
    "DIRECTOR WITH THE MOST AND LEAST PRODUCED MOVIES"
   ]
  },
  {
   "cell_type": "code",
   "execution_count": 238,
   "id": "2816e24d-a88e-4d39-92f6-7b205e75332c",
   "metadata": {},
   "outputs": [
    {
     "data": {
      "image/png": "[encoded data removed]",
      "text/plain": [
       "<Figure size 1000x600 with 1 Axes>"
      ]
     },
     "metadata": {},
     "output_type": "display_data"
    }
   ],
   "source": [
    "import matplotlib.pyplot as plt\n",
    "plt.figure(figsize=(10, 6))\n",
    "language_counts.plot(kind='line', color='skyblue')\n",
    "plt.title('Distribution of Languages in Films')\n",
    "plt.xlabel('Language')\n",
    "plt.ylabel('Number of Films')\n",
    "plt.xticks(rotation=45)\n",
    "plt.savefig('languages.png', dpi=300, bbox_inches='tight')\n",
    "plt.show()"
   ]
  },
  {
   "cell_type": "markdown",
   "id": "7371b9dc-6683-4cd0-80d3-8c73f4e48281",
   "metadata": {},
   "source": [
    "Market Trends:\n",
    "\n",
    "Most Used Language: This indicates the language most commonly used in films, which might suggest a dominant market or audience preference. , English is the most used language, it  means that films in English dominate the industry, possibly due to larger global reach or higher production volume.\n",
    "\n",
    "\n",
    "Recommendation: Consider the language trends when planning content. If the most used language is prevalent, the studio might want to focus on producing content in that language to reach a wider audience. Conversely, the least used language could represent an opportunity to tap into a niche market.\n",
    "Language Strategy:\n",
    "\n",
    "Focus on producing movies in English to cater to the largest audience base.\n",
    "Explore niche markets by creating content in less common languages like Hausa, which could have untapped potential."
   ]
  },
  {
   "cell_type": "code",
   "execution_count": 139,
   "id": "06e5d4fb-3a5f-4546-b372-e91a7c75e6db",
   "metadata": {},
   "outputs": [
    {
     "data": {
      "text/plain": [
       "3.130912244974922"
      ]
     },
     "execution_count": 139,
     "metadata": {},
     "output_type": "execute_result"
    }
   ],
   "source": [
    "pop = df3['popularity'].mean()\n"
   ]
  },
  {
   "cell_type": "code",
   "execution_count": 142,
   "id": "fb3089cc-cddc-4864-8b3c-1cb35188d5b2",
   "metadata": {},
   "outputs": [
    {
     "data": {
      "text/plain": [
       "5.991281064977184"
      ]
     },
     "execution_count": 142,
     "metadata": {},
     "output_type": "execute_result"
    }
   ],
   "source": [
    "vote_mean = df3['vote_average'].mean()\n",
    "vote_mean"
   ]
  },
  {
   "cell_type": "code",
   "execution_count": 161,
   "id": "dd8af79d-e5b0-4b51-88e6-8af4a168c7d6",
   "metadata": {},
   "outputs": [],
   "source": [
    "cleaned = df2.dropna(inplace = True)"
   ]
  },
  {
   "cell_type": "code",
   "execution_count": 165,
   "id": "5f59330a-f604-4511-a46e-e88b5cae3b68",
   "metadata": {},
   "outputs": [],
   "source": [
    "conn.close()"
   ]
  },
  {
   "cell_type": "code",
   "execution_count": 167,
   "id": "187fe2de-0556-4ff9-84e7-5f60d7a52faa",
   "metadata": {},
   "outputs": [],
   "source": [
    "df.to_csv('tn.movie_budgets.csv.gz', index=False)\n"
   ]
  },
  {
   "cell_type": "code",
   "execution_count": 168,
   "id": "6433e5e4-85b3-46cd-a68d-e20ecb04ca2b",
   "metadata": {},
   "outputs": [],
   "source": [
    "df1.to_csv('rt.movie_info.tsv.gz', index=False)\n"
   ]
  },
  {
   "cell_type": "code",
   "execution_count": null,
   "id": "bd190a0b-4323-419a-8d16-ec6d2be822cf",
   "metadata": {},
   "outputs": [],
   "source": [
    "df2.to_csv('rt.movie_info.tsv.gz', index=False)"
   ]
  },
  {
   "cell_type": "code",
   "execution_count": 169,
   "id": "619d5a5d-562f-4305-a772-08222f29acc9",
   "metadata": {},
   "outputs": [],
   "source": [
    "df3.to_csv('tmdb.movies.csv.gz', index=False)"
   ]
  },
  {
   "cell_type": "code",
   "execution_count": 173,
   "id": "8a125d56-b4e5-4d37-8c8c-9b913541d9fb",
   "metadata": {},
   "outputs": [],
   "source": [
    "mean = df3['vote_average'].mean()"
   ]
  },
  {
   "cell_type": "code",
   "execution_count": 239,
   "id": "46d724bd-46ea-4aa8-a2e7-1c0330810e33",
   "metadata": {},
   "outputs": [
    {
     "data": {
      "image/png": "[encoded data removed]",
      "text/plain": [
       "<Figure size 1000x600 with 1 Axes>"
      ]
     },
     "metadata": {},
     "output_type": "display_data"
    }
   ],
   "source": [
    "plt.figure(figsize=(10, 6))\n",
    "director.plot(kind='line', color='skyblue')\n",
    "plt.title('Distribution of Directors in Films')\n",
    "plt.xlabel('Language')\n",
    "plt.ylabel('Number of Films')\n",
    "plt.xticks(rotation=45)\n",
    "plt.savefig('director.png', dpi=300, bbox_inches='tight')\n",
    "plt.show()"
   ]
  },
  {
   "cell_type": "markdown",
   "id": "46990782-13b3-40b4-9c20-fc331b681ade",
   "metadata": {},
   "source": [
    "Collaborate with directors like Clint Eastwood who have a proven track record of producing successful movies.\n",
    "Give opportunities to directors like Kevin Smith to bring fresh and unique perspectives to the studio's portfolio."
   ]
  },
  {
   "cell_type": "code",
   "execution_count": 240,
   "id": "95f2d4ed-a32e-4cb7-8ff9-b87469d5d699",
   "metadata": {},
   "outputs": [
    {
     "data": {
      "image/png": "[encoded data removed]",
      "text/plain": [
       "<Figure size 1000x600 with 1 Axes>"
      ]
     },
     "metadata": {},
     "output_type": "display_data"
    }
   ],
   "source": [
    "plt.figure(figsize=(10, 6))\n",
    "runtime_counts.plot(kind='line', color='skyblue')\n",
    "plt.title('Distribution of Runtimein Films')\n",
    "plt.xlabel('Runtime')\n",
    "plt.ylabel('Number of Films')\n",
    "plt.xticks(rotation=45)\n",
    "plt.savefig('runtime.png', dpi=300, bbox_inches='tight')\n",
    "plt.show()"
   ]
  },
  {
   "cell_type": "markdown",
   "id": "49e961cf-8c47-4d5d-a837-c043b89fdd40",
   "metadata": {},
   "source": [
    "Aim to produce movies with runtimes around 102 minutes to maintain viewer engagement without causing fatigue.\n",
    "Consider the genre and target audience when deciding on the movie length to optimize viewer satisfaction."
   ]
  },
  {
   "cell_type": "code",
   "execution_count": 241,
   "id": "f1919c6d-9086-41f7-b2e6-959bb814b411",
   "metadata": {},
   "outputs": [
    {
     "data": {
      "image/png": "[encoded data removed]",
      "text/plain": [
       "<Figure size 1000x600 with 1 Axes>"
      ]
     },
     "metadata": {},
     "output_type": "display_data"
    }
   ],
   "source": [
    "plt.figure(figsize=(10, 6))\n",
    "genre_counts.plot(kind='line', color='skyblue')\n",
    "plt.title('Distribution of Genre in Films')\n",
    "plt.xlabel('Genre')\n",
    "plt.ylabel('Number of Films')\n",
    "plt.xticks(rotation=45)\n",
    "plt.savefig('genre.png', dpi=300, bbox_inches='tight')\n",
    "plt.show()"
   ]
  },
  {
   "cell_type": "markdown",
   "id": "45e23c8a-4126-49bc-8ead-df675cef30ee",
   "metadata": {},
   "source": [
    "Continue to produce Drama movies as they are the most popular genre.\n",
    "Experiment with Comedy, Musical, and Performing Arts genres to diversify offerings and attract different audience segments."
   ]
  },
  {
   "cell_type": "code",
   "execution_count": 242,
   "id": "d569e629-b13c-4372-9dfb-fc8eef27c017",
   "metadata": {},
   "outputs": [
    {
     "data": {
      "image/png": "[encoded data removed]",
      "text/plain": [
       "<Figure size 1000x600 with 1 Axes>"
      ]
     },
     "metadata": {},
     "output_type": "display_data"
    }
   ],
   "source": [
    "plt.figure(figsize=(10, 6))\n",
    "rating_counts.plot(kind='bar', color='skyblue')\n",
    "plt.title('Distribution of Ratings in Films')\n",
    "plt.xlabel('Ratings')\n",
    "plt.ylabel('Number of Films')\n",
    "plt.xticks(rotation=45)\n",
    "plt.savefig('rating.png', dpi=300, bbox_inches='tight')\n",
    "plt.show()"
   ]
  },
  {
   "cell_type": "markdown",
   "id": "efb96359-02cb-4837-be5a-a616440fa0b8",
   "metadata": {},
   "source": [
    "Invest in producing R-rated movies as they have the highest audience demand.\n",
    "Consider the potential market for NC-17 rated movies, but be cautious due to their limited audience."
   ]
  },
  {
   "cell_type": "code",
   "execution_count": null,
   "id": "5ce7ec65-968f-4a47-9b62-8784f213be80",
   "metadata": {},
   "outputs": [],
   "source": []
  }
 ],
 "metadata": {
  "kernelspec": {
   "display_name": "Python 3 (ipykernel)",
   "language": "python",
   "name": "python3"
  },
  "language_info": {
   "codemirror_mode": {
    "name": "ipython",
    "version": 3
   },
   "file_extension": ".py",
   "mimetype": "text/x-python",
   "name": "python",
   "nbconvert_exporter": "python",
   "pygments_lexer": "ipython3",
   "version": "3.11.7"
  }
 },
 "nbformat": 4,
 "nbformat_minor": 5
}
